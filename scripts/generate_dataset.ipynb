{
 "cells": [
  {
   "cell_type": "code",
   "execution_count": 20,
   "metadata": {},
   "outputs": [],
   "source": [
    "# Import the libraries\n",
    "import torch\n",
    "\n",
    "import numpy as np\n",
    "import pandas as pd\n",
    "import os\n",
    "import matplotlib.pyplot as plt\n",
    "import gc\n",
    "from random import choice, randint, seed\n",
    "from tqdm.auto import tqdm\n",
    "\n",
    "%matplotlib inline"
   ]
  },
  {
   "cell_type": "code",
   "execution_count": 21,
   "metadata": {},
   "outputs": [
    {
     "data": {
      "text/plain": [
       "<torch._C.Generator at 0x1c7b4bf8590>"
      ]
     },
     "execution_count": 21,
     "metadata": {},
     "output_type": "execute_result"
    }
   ],
   "source": [
    "# Set seed to repeat the results\n",
    "random_seed = 1\n",
    "\n",
    "np.random.seed(random_seed)\n",
    "\n",
    "seed(random_seed)\n",
    "\n",
    "torch.backends.cudnn.enabled = False\n",
    "torch.manual_seed(random_seed)"
   ]
  },
  {
   "cell_type": "markdown",
   "metadata": {},
   "source": [
    "# Generating dataset"
   ]
  },
  {
   "cell_type": "markdown",
   "metadata": {},
   "source": [
    "Parameters:\n",
    "<ul>\n",
    "    <li> <b>n_samples</b> - number of generated images (int: n_sample=100) </li>\n",
    "    <li> <b>resolution</b> - size of images pxl (tuple: resolution=(64, 64)) </li>\n",
    "    <li> <b>figure_types</b> - random types of generated figures (list: figure_types=['traingle', 'square', 'circle', 'pentagon', 'hexagon']) </li>\n",
    "    <li> <b>sizes</b> - random size of figures in range (tuple: sizes=(5, 13)) [atention: sizes[1] < resolution[0]/2 - 1] [size_1 < size_2] </li>\n",
    "    <li> <b>colors</b> - random color of figures (list: colors=['#FBC618', '#0414F6', '#AAC628']) </li>\n",
    "    <li> <b>rotation_angles</b> - random rotation angles in range (tuple: rotation_angles=(10, 180)) [angle_1 < angle_2]</li>\n",
    "    <li> <b>path</b> - path to folder for saving the generated data </li>\n",
    "</ul> <br>"
   ]
  },
  {
   "cell_type": "markdown",
   "metadata": {},
   "source": [
    "#### Functions"
   ]
  },
  {
   "cell_type": "code",
   "execution_count": 22,
   "metadata": {},
   "outputs": [],
   "source": [
    "# Create dataset of figure's parameters\n",
    "def generate_dataset(resolution, n_samples, figure_types, sizes, colors, rotation_angles, path):\n",
    "    \n",
    "    # Figure size (c) is low than (a/2 - 1); a - numbers of pixels\n",
    "    # Picture field - [-a/2, a/2]\n",
    "    # Center of picture shift is low than +-(a-c)\n",
    "    \n",
    "    rot_angl = {'triangle': 120,'square': 90, 'circle': 1, 'pentagon': 72, 'hexagon': 60}\n",
    "\n",
    "    random_data = {'figure': [choice(figure_types) for i in range(n_samples)], \n",
    "                   'size': [randint(sizes[0], sizes[1]) for i in range(n_samples)], \n",
    "                   'color': [choice(colors) for i in range(n_samples)], \n",
    "                   'rotation_angle': [(randint(rotation_angles[0], rotation_angles[1])) for i in range(n_samples)]}\n",
    "    \n",
    "    for i, angl in enumerate(random_data['rotation_angle']):\n",
    "        random_data['rotation_angle'][i] = angl % rot_angl[random_data['figure'][i]]\n",
    "        \n",
    "    image_data = pd.DataFrame(random_data)\n",
    "\n",
    "    # Add center coordinations\n",
    "    image_data['center_x'] = np.random.randint(-resolution[0]/2 + image_data['size'], resolution[0]/2 - image_data['size'])\n",
    "    image_data['center_y'] = np.random.randint(-resolution[0]/2 + image_data['size'], resolution[0]/2 - image_data['size'])\n",
    "    \n",
    "    image_data.index.name = 'ID'\n",
    "\n",
    "    image_data.to_csv(path + '\\\\image_data.csv')\n",
    "\n",
    "    return image_data"
   ]
  },
  {
   "cell_type": "code",
   "execution_count": 23,
   "metadata": {},
   "outputs": [],
   "source": [
    "# Generate picture of figures\n",
    "def generate_image(resolution, k, image_data, path=None):\n",
    "    \n",
    "    dpi = plt.rcParams['figure.dpi'] # dpi for transform inch to pixel\n",
    "\n",
    "    # Figure types\n",
    "    mark_dict = {'circle': 'o', \n",
    "                 'triangle': (3, 0, image_data['rotation_angle'].values[k]), \n",
    "                 'square': (4, 0, image_data['rotation_angle'].values[k]), \n",
    "                 'pentagon': (5, 0, image_data['rotation_angle'].values[k]),\n",
    "                 'hexagon': (6, 0, image_data['rotation_angle'].values[k])}\n",
    "    mark = mark_dict[image_data['figure'].values[k]]\n",
    "\n",
    "    # Some variables\n",
    "    x = image_data['center_x'].values[k]\n",
    "    y = image_data['center_y'].values[k]\n",
    "    marksize = image_data['size'].values[k]\n",
    "    col = image_data['color'].values[k]\n",
    "    pxl_size_x = resolution[0]/dpi\n",
    "    pxl_size_y = resolution[1]/dpi\n",
    "    x_lim = [-resolution[0]/2, resolution[0]/2]\n",
    "    y_lim = [-resolution[1]/2, resolution[1]/2]\n",
    "\n",
    "    # Create picture\n",
    "    fig = plt.figure(figsize=(pxl_size_x, pxl_size_y))\n",
    "    ax = fig.add_subplot(1, 1, 1)\n",
    "    ax.plot(x, y, marker=mark, markersize=marksize, color=col)\n",
    "    plt.axis('off')\n",
    "    plt.xlim(x_lim)\n",
    "    plt.ylim(y_lim)\n",
    "    # plt.savefig(path + f'\\\\ID-{k}.png', bbox_inches=0)\n",
    "\n",
    "    # Plot to array\n",
    "    fig.canvas.draw()\n",
    "    data = np.frombuffer(fig.canvas.tostring_rgb(), dtype=np.uint8)\n",
    "    data = data.reshape(fig.canvas.get_width_height()[::-1] + (3,))\n",
    "    #np.save(path + f'img_array_{k}.npy', data)\n",
    "    \n",
    "    plt.close()\n",
    "\n",
    "    return data"
   ]
  },
  {
   "cell_type": "code",
   "execution_count": 24,
   "metadata": {},
   "outputs": [],
   "source": [
    "# Test input data\n",
    "def testing_input(n_samples, resolution, figure_types, sizes, colors, rotation_angles, path):\n",
    "     # n_samples\n",
    "    if not (isinstance(n_samples, int) and n_samples > 0 and n_samples <= 100000):\n",
    "        return False\n",
    "\n",
    "    # resolution\n",
    "    if not (isinstance(resolution, tuple) and len(resolution) == 2 and\n",
    "            resolution[0] > 0 and resolution[1] > 0):\n",
    "        return False\n",
    "\n",
    "    # figure_types\n",
    "    valid_figure_types = ['triangle', 'square', 'circle', 'pentagon', 'hexagon']\n",
    "    if not all(i in valid_figure_types for i in figure_types):\n",
    "        return False\n",
    "\n",
    "    # sizes\n",
    "    if not (isinstance(sizes, tuple) and len(sizes) == 2 and\n",
    "            sizes[0] > 0 and sizes[1] > 0 and sizes[1] <= resolution[0] / 2 - 1\n",
    "            and sizes[0] < sizes[1]):\n",
    "        return False\n",
    "    \n",
    "    # rotation_angels\n",
    "    if not (isinstance(rotation_angles, tuple) and len(rotation_angles) == 2 and\n",
    "            rotation_angles[0] < rotation_angles[1]):\n",
    "        return False\n",
    "\n",
    "    return True\n",
    "        "
   ]
  },
  {
   "cell_type": "code",
   "execution_count": 25,
   "metadata": {},
   "outputs": [],
   "source": [
    "# Start all generation functions\n",
    "def generate_image_dataset(n_samples, resolution, figure_types, sizes, colors, rotation_angles, path):\n",
    "    if testing_input(n_samples, resolution, figure_types, sizes, colors, rotation_angles, path):\n",
    "\n",
    "        image_data = generate_dataset(resolution, n_samples, figure_types, sizes, colors, rotation_angles, path)\n",
    "        \n",
    "        plot_list = []\n",
    "        \n",
    "        for k in tqdm(range(n_samples)):\n",
    "            \n",
    "            plot_list.append(generate_image(resolution, k, image_data, path))\n",
    "        \n",
    "            if len(plot_list) >= 10000:\n",
    "                if not os.path.exists(path + 'img_arrays.npz'):\n",
    "                    np.savez_compressed(path + 'img_arrays.npz', plot_list)\n",
    "                    del plot_list\n",
    "                    gc.collect()\n",
    "                    plot_list = []\n",
    "                else:\n",
    "                    img_zip = np.load(path + 'img_arrays.npz')\n",
    "                    img_arr = img_zip['arr_0']\n",
    "                    new_arr = np.concatenate((img_arr, plot_list))\n",
    "                    np.savez_compressed(path + 'img_arrays.npz', new_arr)\n",
    "                    del img_zip, img_arr, new_arr, plot_list\n",
    "                    gc.collect()\n",
    "                    gc.collect()\n",
    "                    plot_list = []\n",
    "                    \n",
    "        if plot_list:\n",
    "            if not os.path.exists(path + 'img_arrays.npz'):\n",
    "                np.savez_compressed(path + 'img_arrays.npz', plot_list)\n",
    "            else:\n",
    "                img_zip = np.load(path + 'img_arrays.npz')\n",
    "                img_arr = img_zip['arr_0']\n",
    "                new_arr = np.concatenate((img_arr, plot_list))\n",
    "                np.savez_compressed(path + 'img_arrays.npz', new_arr)\n",
    "                del img_zip, img_arr, new_arr, plot_list  \n",
    "                gc.collect()      \n",
    "        return print('Access!')\n",
    "    else:\n",
    "        return print('Error input data! Check description!')"
   ]
  },
  {
   "cell_type": "markdown",
   "metadata": {},
   "source": [
    "#### Generation"
   ]
  },
  {
   "cell_type": "code",
   "execution_count": 26,
   "metadata": {},
   "outputs": [],
   "source": [
    "# NUM_IMAGES = 50000\n",
    "\n",
    "# generate_image_dataset(n_samples=NUM_IMAGES, \n",
    "#                         resolution=(64, 64), \n",
    "#                         figure_types=['triangle','square','circle', 'pentagon', 'hexagon'], \n",
    "#                         sizes=(5, 31), \n",
    "#                         colors=['#FF0000', '#00FF00', '#0000FF', '#FFFF00', '#FF00FF', '#00FFFF', '#FFA500', '#800080', '#008000', '#000000'], \n",
    "#                         rotation_angles=(0, 180), \n",
    "#                         path='C:\\\\Users\\\\User\\\\AppData\\\\Local\\\\Programs\\\\VS_Projects\\Testing\\\\Figure project\\\\files\\\\')"
   ]
  },
  {
   "cell_type": "code",
   "execution_count": 39,
   "metadata": {},
   "outputs": [
    {
     "name": "stderr",
     "output_type": "stream",
     "text": [
      "  0%|          | 0/10000 [00:00<?, ?it/s]C:\\Users\\User\\AppData\\Local\\Temp\\ipykernel_12460\\3123051476.py:35: MatplotlibDeprecationWarning: The tostring_rgb function was deprecated in Matplotlib 3.8 and will be removed two minor releases later. Use buffer_rgba instead.\n",
      "  data = np.frombuffer(fig.canvas.tostring_rgb(), dtype=np.uint8)\n",
      "100%|██████████| 10000/10000 [05:18<00:00, 31.38it/s] "
     ]
    },
    {
     "name": "stdout",
     "output_type": "stream",
     "text": [
      "Access!\n"
     ]
    },
    {
     "name": "stderr",
     "output_type": "stream",
     "text": [
      "\n"
     ]
    }
   ],
   "source": [
    "NUM_IMAGES = 10000\n",
    "\n",
    "generate_image_dataset(n_samples=NUM_IMAGES, \n",
    "                        resolution=(32, 32), \n",
    "                        figure_types=['hexagon', 'pentagon'], \n",
    "                        sizes=(10, 15), \n",
    "                        colors=['#FF0000', '#00FF00', '#0000FF', '#FFFF00', '#FF00FF', '#00FFFF', '#FFA500', '#800080', '#008000', '#000000'], \n",
    "                        rotation_angles=(0, 180), \n",
    "                        path='C:\\\\Users\\\\User\\\\AppData\\\\Local\\\\Programs\\\\VS_Projects\\Testing\\\\Figure project\\\\')"
   ]
  },
  {
   "cell_type": "code",
   "execution_count": 28,
   "metadata": {},
   "outputs": [
    {
     "data": {
      "text/plain": [
       "figure\n",
       "pentagon    10071\n",
       "square      10050\n",
       "hexagon     10026\n",
       "triangle    10012\n",
       "circle       9841\n",
       "Name: count, dtype: int64"
      ]
     },
     "execution_count": 28,
     "metadata": {},
     "output_type": "execute_result"
    }
   ],
   "source": [
    "# Figure types of generated images\n",
    "df_data = pd.read_csv('C:\\\\Users\\\\User\\\\AppData\\\\Local\\\\Programs\\\\VS_Projects\\Testing\\\\Figure project\\\\files\\\\image_data.csv')\n",
    "df_data['figure'].value_counts()"
   ]
  },
  {
   "cell_type": "code",
   "execution_count": 29,
   "metadata": {},
   "outputs": [],
   "source": [
    "# Load images zip and unzip\n",
    "img_zip = np.load('C:\\\\Users\\\\User\\\\AppData\\\\Local\\\\Programs\\\\VS_Projects\\Testing\\\\Figure project\\\\files\\\\img_arrays.npz')\n",
    "img_arr = img_zip['arr_0']"
   ]
  },
  {
   "cell_type": "code",
   "execution_count": 30,
   "metadata": {},
   "outputs": [
    {
     "name": "stdout",
     "output_type": "stream",
     "text": [
      "Dataset shape: (50000, 64, 64, 3) -> [images_number, height, width, color_channels]\n"
     ]
    }
   ],
   "source": [
    "print(f\"Dataset shape: {img_arr.shape} -> [images_number, height, width, color_channels]\")"
   ]
  },
  {
   "cell_type": "code",
   "execution_count": 31,
   "metadata": {},
   "outputs": [
    {
     "data": {
      "text/plain": [
       "64"
      ]
     },
     "execution_count": 31,
     "metadata": {},
     "output_type": "execute_result"
    }
   ],
   "source": [
    "img = img_arr[6]\n",
    "type(img)\n",
    "len(img)"
   ]
  },
  {
   "cell_type": "code",
   "execution_count": 32,
   "metadata": {},
   "outputs": [
    {
     "data": {
      "text/plain": [
       "torch.Size([64, 64, 3])"
      ]
     },
     "execution_count": 32,
     "metadata": {},
     "output_type": "execute_result"
    }
   ],
   "source": [
    "img_tensor = torch.from_numpy(img)\n",
    "img_tensor.shape"
   ]
  },
  {
   "cell_type": "code",
   "execution_count": 33,
   "metadata": {},
   "outputs": [
    {
     "data": {
      "text/plain": [
       "torch.Size([1, 64, 64])"
      ]
     },
     "execution_count": 33,
     "metadata": {},
     "output_type": "execute_result"
    }
   ],
   "source": [
    "import torchvision\n",
    "img_PIL = torchvision.transforms.ToPILImage()(img)\n",
    "img_tensor_gray = torchvision.transforms.Grayscale()(img_PIL)\n",
    "img = torchvision.transforms.ToTensor()(img_tensor_gray)\n",
    "img.shape\n"
   ]
  },
  {
   "cell_type": "code",
   "execution_count": 34,
   "metadata": {},
   "outputs": [
    {
     "data": {
      "text/plain": [
       "(-0.5, 63.5, 63.5, -0.5)"
      ]
     },
     "execution_count": 34,
     "metadata": {},
     "output_type": "execute_result"
    },
    {
     "data": {
      "image/png": "[encoded data removed]",
      "text/plain": [
       "<Figure size 640x480 with 1 Axes>"
      ]
     },
     "metadata": {},
     "output_type": "display_data"
    }
   ],
   "source": [
    "fig, ax = plt.subplots(1, 1)\n",
    "transformed_image = img.permute(1, 2, 0) \n",
    "ax.imshow(transformed_image) \n",
    "ax.set_title(f\"Transformed \\nSize: {transformed_image.shape}\")\n",
    "ax.axis(\"off\")"
   ]
  },
  {
   "cell_type": "code",
   "execution_count": 35,
   "metadata": {},
   "outputs": [],
   "source": [
    "from PIL import Image\n",
    "img_tensor_gray.save('Tensor_transform_grayscale.png')"
   ]
  },
  {
   "cell_type": "markdown",
   "metadata": {},
   "source": [
    "#### Some test code"
   ]
  },
  {
   "cell_type": "code",
   "execution_count": 36,
   "metadata": {},
   "outputs": [],
   "source": [
    "# # Picture visual\n",
    "# dpi = 100\n",
    "# for plot in img_ar:\n",
    "#     fig = plt.figure(figsize=(64/dpi, 64/dpi), dpi=dpi)\n",
    "#     plt.imshow(plot)\n",
    "#     plt.axis('off')\n",
    "#     plt.gray()\n",
    "#     plt.show()"
   ]
  },
  {
   "cell_type": "code",
   "execution_count": 37,
   "metadata": {},
   "outputs": [],
   "source": [
    "# # Initialization the generate function several times for low memory usage\n",
    "\n",
    "# NUM_IMAGES = 50000\n",
    "# BATCH_IMG = 10000\n",
    "# OST_IMG = NUM_IMAGES - NUM_IMAGES * (NUM_IMAGES // BATCH_IMG)\n",
    "\n",
    "# for i in range(NUM_IMAGES // BATCH_IMG):\n",
    "#     random_seed += 1\n",
    "#     np.random.seed(random_seed)\n",
    "#     seed(random_seed)\n",
    "#     generate_image_dataset(n_samples=BATCH_IMG, \n",
    "#                             resolution=(64, 64), \n",
    "#                             figure_types=['triangle','square','circle', 'pentagon', 'hexagon'], \n",
    "#                             sizes=(5, 31), \n",
    "#                             colors=['#FF0000', '#00FF00', '#0000FF', '#FFFF00', '#FF00FF', '#00FFFF', '#FFA500', '#800080', '#008000', '#000000'], \n",
    "#                             rotation_angles=(0, 180), \n",
    "#                             path='C:\\\\Users\\\\User\\\\AppData\\\\Local\\\\Programs\\\\VS_Projects\\Testing\\\\Figure project\\\\files\\\\')\n",
    "#     gc.collect()\n",
    "\n",
    "# if OST_IMG != 0:\n",
    "#     generate_image_dataset(n_samples=OST_IMG, \n",
    "#                             resolution=(64, 64), \n",
    "#                             figure_types=['triangle','square','circle', 'pentagon', 'hexagon'], \n",
    "#                             sizes=(5, 31), \n",
    "#                             colors=['#FF0000', '#00FF00', '#0000FF', '#FFFF00', '#FF00FF', '#00FFFF', '#FFA500', '#800080', '#008000', '#000000'], \n",
    "#                             rotation_angles=(0, 180), \n",
    "#                             path='C:\\\\Users\\\\User\\\\AppData\\\\Local\\\\Programs\\\\VS_Projects\\Testing\\\\Figure project\\\\files\\\\')"
   ]
  },
  {
   "cell_type": "code",
   "execution_count": 38,
   "metadata": {},
   "outputs": [],
   "source": [
    "# # Start all generation functions with saves\n",
    "# def generate_image_dataset(n_samples, resolution, figure_types, sizes, colors, rotation_angles, path):\n",
    "#     if testing_input(n_samples, resolution, figure_types, sizes, colors, rotation_angles, path):\n",
    "\n",
    "#         if not os.path.exists(path + 'image_data.csv'):\n",
    "#             image_data = generate_dataset(resolution, n_samples, figure_types, sizes, colors, rotation_angles, path)\n",
    "#             image_data.to_csv(path + 'image_data.csv')\n",
    "#         else:\n",
    "#             image_data = pd.read_csv(path + 'image_data.csv')\n",
    "#             image_data = pd.concat([image_data, generate_dataset(resolution, n_samples, figure_types, sizes, colors, rotation_angles, path)])\n",
    "#             image_data.to_csv(path + 'image_data.csv')\n",
    "\n",
    "#         plot_list = []\n",
    "        \n",
    "#         for k in tqdm(range(n_samples)):\n",
    "            \n",
    "#             plot_list.append(generate_image(resolution, k, image_data, path))\n",
    "        \n",
    "\n",
    "#         if not os.path.exists(path + 'img_arrays.npz'):\n",
    "#             np.savez_compressed(path + 'img_arrays.npz', plot_list)\n",
    "#             del plot_list\n",
    "#             gc.collect()\n",
    "#             plot_list = []\n",
    "#         else:\n",
    "#             img_zip = np.load(path + 'img_arrays.npz')\n",
    "#             img_arr = img_zip['arr_0']\n",
    "#             new_arr = np.concatenate((img_arr, plot_list))\n",
    "#             np.savez_compressed(path + 'img_arrays.npz', new_arr)\n",
    "#             del img_zip, img_arr, new_arr, plot_list\n",
    "#             plot_list = []\n",
    "#             gc.collect()\n",
    "                    \n",
    "#         if plot_list:\n",
    "#             if not os.path.exists(path + 'img_arrays.npz'):\n",
    "#                 np.savez_compressed(path + 'img_arrays.npz', plot_list)\n",
    "#             else:\n",
    "#                 img_zip = np.load(path + 'img_arrays.npz')\n",
    "#                 img_arr = img_zip['arr_0']\n",
    "#                 new_arr = np.concatenate((img_arr, plot_list))\n",
    "#                 np.savez_compressed(path + 'img_arrays.npz', new_arr)\n",
    "#                 del img_zip, img_arr, new_arr, plot_list  \n",
    "#                 gc.collect()\n",
    "#         return print('Access!')\n",
    "#     else:\n",
    "#         return print('Error input data! Check description!')"
   ]
  }
 ],
 "metadata": {
  "kernelspec": {
   "display_name": ".figvenv",
   "language": "python",
   "name": "python3"
  },
  "language_info": {
   "codemirror_mode": {
    "name": "ipython",
    "version": 3
   },
   "file_extension": ".py",
   "mimetype": "text/x-python",
   "name": "python",
   "nbconvert_exporter": "python",
   "pygments_lexer": "ipython3",
   "version": "3.10.13"
  },
  "orig_nbformat": 4
 },
 "nbformat": 4,
 "nbformat_minor": 2
}
